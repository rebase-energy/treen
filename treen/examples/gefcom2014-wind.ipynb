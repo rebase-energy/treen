{
 "cells": [
  {
   "cell_type": "code",
   "execution_count": 18,
   "metadata": {},
   "outputs": [],
   "source": [
    "from treen import load_example\n",
    "import enflow as ef\n",
    "import gymnasium as gym\n",
    "\n",
    "import numpy as np"
   ]
  },
  {
   "cell_type": "code",
   "execution_count": 9,
   "metadata": {},
   "outputs": [],
   "source": [
    "df = load_example('gefcom2014-wind')"
   ]
  },
  {
   "cell_type": "code",
   "execution_count": 10,
   "metadata": {},
   "outputs": [],
   "source": [
    "windfarms = []\n",
    "for site in df.columns.levels[0]:\n",
    "    windfarms.append(ef.WindFarm(capacity=1, name=site))\n",
    "\n",
    "portfolio = ef.Portfolio(assets=windfarms)"
   ]
  },
  {
   "cell_type": "markdown",
   "metadata": {},
   "source": [
    "## Create Environment"
   ]
  },
  {
   "cell_type": "code",
   "execution_count": 16,
   "metadata": {},
   "outputs": [],
   "source": [
    "dataset = ef.Dataset(name=\"gefcom2024\",\n",
    "                     description=\"Data provided by the organisers of HEFTCom2024. Participants are free to use additional external data.\",\n",
    "                     energy_system=portfolio,\n",
    "                     data={\"data_gefcom2014_wind\": df})"
   ]
  },
  {
   "cell_type": "code",
   "execution_count": 27,
   "metadata": {},
   "outputs": [],
   "source": [
    "from typing import SupportsFloat, Sequence, Any\n",
    "import numpy as np\n",
    "from numpy.typing import NDArray\n",
    "from gymnasium.spaces import Box\n",
    "\n",
    "\n",
    "class DynamicBox(Box):\n",
    "    \"\"\"A Box space that supports dynamic shapes in one or more dimensions.\"\"\"\n",
    "    \n",
    "    def __init__(\n",
    "        self,\n",
    "        low: SupportsFloat | NDArray[Any],\n",
    "        high: SupportsFloat | NDArray[Any],\n",
    "        shape: Sequence[int | None] | None = None,\n",
    "        dtype: type[np.floating[Any]] | type[np.integer[Any]] = np.float32,\n",
    "        seed: int | np.random.Generator | None = None,\n",
    "    ):\n",
    "        \"\"\"Initialize the DynamicBox, allowing for None in shape dimensions.\"\"\"\n",
    "        \n",
    "        # Track which dimensions are dynamic (None in the shape)\n",
    "        self.dynamic_dims = [dim is None for dim in shape] if shape is not None else []\n",
    "        \n",
    "        # Create a static shape for initialization, replacing dynamic dimensions with 1\n",
    "        static_shape = tuple(dim if dim is not None else 1 for dim in shape) if shape is not None else None\n",
    "        \n",
    "        # Call the parent Box constructor\n",
    "        super().__init__(low, high, static_shape, dtype, seed)\n",
    "        \n",
    "        # Store the original shape including dynamic dimensions\n",
    "        self.original_shape = shape\n",
    "\n",
    "    def _adjust_shape(self, dynamic_shape: Sequence[int] = None):\n",
    "        \"\"\"Adjusts the shape by replacing dynamic dimensions with the provided dynamic shape.\"\"\"\n",
    "        if dynamic_shape is not None:\n",
    "            if len(dynamic_shape) != len(self.original_shape):\n",
    "                raise ValueError(f\"Dynamic shape must have the same length as the original shape: {self.original_shape}\")\n",
    "            \n",
    "            # Replace dynamic dimensions\n",
    "            adjusted_shape = tuple(\n",
    "                dynamic_shape[i] if self.dynamic_dims[i] else self.original_shape[i]\n",
    "                for i in range(len(self.original_shape))\n",
    "            )\n",
    "            self._shape = adjusted_shape  # Temporarily set the shape for methods\n",
    "        else:\n",
    "            # Revert to the static shape (replace dynamic dimensions with 1)\n",
    "            self._shape = tuple(1 if self.dynamic_dims[i] else self.original_shape[i] for i in range(len(self.original_shape)))\n",
    "\n",
    "    def sample(self, dynamic_shape: Sequence[int] = None) -> NDArray[Any]:\n",
    "        \"\"\"Generate a random sample from the space, handling dynamic shapes.\"\"\"\n",
    "        \n",
    "        # Adjust shape based on dynamic dimensions\n",
    "        self._adjust_shape(dynamic_shape)\n",
    "        \n",
    "        # Generate sample from adjusted shape\n",
    "        return super().sample()\n",
    "\n",
    "    def contains(self, x: Any, dynamic_shape: Sequence[int] = None) -> bool:\n",
    "        \"\"\"Check whether a given value is contained within the space, handling dynamic shapes.\"\"\"\n",
    "        \n",
    "        # Adjust shape based on dynamic dimensions\n",
    "        self._adjust_shape(dynamic_shape)\n",
    "        \n",
    "        # Validate the input based on adjusted shape\n",
    "        return super().contains(x)\n",
    "\n",
    "    def __repr__(self) -> str:\n",
    "        \"\"\"String representation showing dynamic dimensions.\"\"\"\n",
    "        dynamic_repr = [\n",
    "            \"None\" if is_dynamic else str(dim)\n",
    "            for is_dynamic, dim in zip(self.dynamic_dims, self.original_shape)\n",
    "        ]\n",
    "        return f\"DynamicBox({self.low_repr}, {self.high_repr}, {tuple(dynamic_repr)}, {self.dtype})\"\n"
   ]
  },
  {
   "cell_type": "code",
   "execution_count": 36,
   "metadata": {},
   "outputs": [],
   "source": [
    "state_space = gym.spaces.Dict(\n",
    "    {\n",
    "        \"wind_power\": DynamicBox(low=0, high=1, shape=(None,10))\n",
    "    }\n",
    ")\n",
    "exogeneous_space = gym.spaces.Dict(\n",
    "    {\n",
    "        \"U10\": DynamicBox(low=-np.inf, high=np.inf, shape=(None,1)),\n",
    "        \"V10\": DynamicBox(low=-np.inf, high=np.inf, shape=(None,1)),\n",
    "        \"U100\": DynamicBox(low=-np.inf, high=np.inf, shape=(None,1)),\n",
    "        \"V100\": DynamicBox(low=-np.inf, high=np.inf, shape=(None,1))\n",
    "    }\n",
    ")\n",
    "action_space = gym.spaces.Dict(\n",
    "    {\n",
    "        \"power_quantile_forecast\": DynamicBox(low=0, high=1, shape=(None,99)),\n",
    "    }\n",
    ")"
   ]
  },
  {
   "cell_type": "code",
   "execution_count": 37,
   "metadata": {},
   "outputs": [],
   "source": [
    "class GEFCom2014Wind(gym.Env):\n",
    "    def __init__(self, dataset: ef.Dataset):\n",
    "        self.state_space = state_space\n",
    "        self.exogeneous_space = exogeneous_space\n",
    "        self.action_space = action_space\n",
    "\n",
    "        self.train = [[[\"2012-01-01 01:00:00\", \"2012-10-01 00:00:00\"]],\n",
    "               [[\"2012-01-01 01:00:00\", \"2012-11-01 00:00:00\"]],\n",
    "               [[\"2012-01-01 01:00:00\", \"2012-12-01 00:00:00\"]],\n",
    "               [[\"2012-01-01 01:00:00\", \"2013-01-01 00:00:00\"]],\n",
    "               [[\"2012-01-01 01:00:00\", \"2013-02-01 00:00:00\"]],\n",
    "               [[\"2012-01-01 01:00:00\", \"2013-03-01 00:00:00\"]],\n",
    "               [[\"2012-01-01 01:00:00\", \"2013-04-01 00:00:00\"]],\n",
    "               [[\"2012-01-01 01:00:00\", \"2013-05-01 00:00:00\"]],\n",
    "               [[\"2012-01-01 01:00:00\", \"2013-06-01 00:00:00\"]],\n",
    "               [[\"2012-01-01 01:00:00\", \"2013-07-01 00:00:00\"]],\n",
    "               [[\"2012-01-01 01:00:00\", \"2013-08-01 00:00:00\"]],\n",
    "               [[\"2012-01-01 01:00:00\", \"2013-09-01 00:00:00\"]],\n",
    "               [[\"2012-01-01 01:00:00\", \"2013-10-01 00:00:00\"]],\n",
    "               [[\"2012-01-01 01:00:00\", \"2013-11-01 00:00:00\"]],\n",
    "               [[\"2012-01-01 01:00:00\", \"2013-12-01 00:00:00\"]]],\n",
    "        self.test = [[[\"2012-10-01 01:00:00\", \"2012-11-01 00:00:00\"]],\n",
    "               [[\"2012-11-01 01:00:00\", \"2012-12-01 00:00:00\"]],\n",
    "               [[\"2012-12-01 01:00:00\", \"2013-01-01 00:00:00\"]],\n",
    "               [[\"2013-01-01 01:00:00\", \"2013-02-01 00:00:00\"]],\n",
    "               [[\"2013-02-01 01:00:00\", \"2013-03-01 00:00:00\"]],\n",
    "               [[\"2013-03-01 01:00:00\", \"2013-04-01 00:00:00\"]],\n",
    "               [[\"2013-04-01 01:00:00\", \"2013-05-01 00:00:00\"]],\n",
    "               [[\"2013-05-01 01:00:00\", \"2013-06-01 00:00:00\"]],\n",
    "               [[\"2013-06-01 01:00:00\", \"2013-07-01 00:00:00\"]],\n",
    "               [[\"2013-07-01 01:00:00\", \"2013-08-01 00:00:00\"]],\n",
    "               [[\"2013-08-01 01:00:00\", \"2013-09-01 00:00:00\"]],\n",
    "               [[\"2013-09-01 01:00:00\", \"2013-10-01 00:00:00\"]],\n",
    "               [[\"2013-10-01 01:00:00\", \"2013-11-01 00:00:00\"]],\n",
    "               [[\"2013-11-01 01:00:00\", \"2013-12-01 00:00:00\"]],\n",
    "               [[\"2013-12-01 01:00:00\", \"2014-01-01 00:00:00\"]]]"
   ]
  },
  {
   "cell_type": "code",
   "execution_count": 40,
   "metadata": {},
   "outputs": [],
   "source": [
    "env = GEFCom2014Wind(dataset) "
   ]
  },
  {
   "cell_type": "code",
   "execution_count": 41,
   "metadata": {},
   "outputs": [
    {
     "data": {
      "text/plain": [
       "([[['2012-01-01 01:00:00', '2012-10-01 00:00:00']],\n",
       "  [['2012-01-01 01:00:00', '2012-11-01 00:00:00']],\n",
       "  [['2012-01-01 01:00:00', '2012-12-01 00:00:00']],\n",
       "  [['2012-01-01 01:00:00', '2013-01-01 00:00:00']],\n",
       "  [['2012-01-01 01:00:00', '2013-02-01 00:00:00']],\n",
       "  [['2012-01-01 01:00:00', '2013-03-01 00:00:00']],\n",
       "  [['2012-01-01 01:00:00', '2013-04-01 00:00:00']],\n",
       "  [['2012-01-01 01:00:00', '2013-05-01 00:00:00']],\n",
       "  [['2012-01-01 01:00:00', '2013-06-01 00:00:00']],\n",
       "  [['2012-01-01 01:00:00', '2013-07-01 00:00:00']],\n",
       "  [['2012-01-01 01:00:00', '2013-08-01 00:00:00']],\n",
       "  [['2012-01-01 01:00:00', '2013-09-01 00:00:00']],\n",
       "  [['2012-01-01 01:00:00', '2013-10-01 00:00:00']],\n",
       "  [['2012-01-01 01:00:00', '2013-11-01 00:00:00']],\n",
       "  [['2012-01-01 01:00:00', '2013-12-01 00:00:00']]],)"
      ]
     },
     "execution_count": 41,
     "metadata": {},
     "output_type": "execute_result"
    }
   ],
   "source": [
    "env.train"
   ]
  },
  {
   "cell_type": "code",
   "execution_count": null,
   "metadata": {},
   "outputs": [],
   "source": []
  }
 ],
 "metadata": {
  "kernelspec": {
   "display_name": ".venv_treen",
   "language": "python",
   "name": "python3"
  },
  "language_info": {
   "codemirror_mode": {
    "name": "ipython",
    "version": 3
   },
   "file_extension": ".py",
   "mimetype": "text/x-python",
   "name": "python",
   "nbconvert_exporter": "python",
   "pygments_lexer": "ipython3",
   "version": "3.11.4"
  }
 },
 "nbformat": 4,
 "nbformat_minor": 2
}
